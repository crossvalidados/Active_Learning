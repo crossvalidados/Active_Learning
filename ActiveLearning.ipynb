{
 "cells": [
  {
   "cell_type": "markdown",
   "metadata": {
    "colab_type": "text",
    "id": "3knpOi4edTYZ"
   },
   "source": [
    "# Trabajo de aprendizaje activo\n",
    "\n",
    "Manuel Bajo Buenestado y Kevin Craig Alisauskas\n",
    "\n",
    "03-03-2019\n",
    "\n",
    "\n"
   ]
  },
  {
   "cell_type": "code",
   "execution_count": 1,
   "metadata": {
    "colab": {},
    "colab_type": "code",
    "id": "7ItYBzzLe4J7"
   },
   "outputs": [],
   "source": [
    "import pandas as pd\n",
    "import numpy as np\n",
    "import matplotlib.pyplot as plt\n",
    "from sklearn.svm import SVC\n",
    "from sklearn.metrics import accuracy_score\n",
    "#from al_base import ao\n",
    "from sklearn.cluster import KMeans\n",
    "from random import randint\n",
    "import random\n",
    "random.seed(31415926535)"
   ]
  },
  {
   "cell_type": "code",
   "execution_count": 5,
   "metadata": {
    "colab": {},
    "colab_type": "code",
    "id": "B8I3xU7lc_sV"
   },
   "outputs": [],
   "source": [
    "# se cargan los datos\n",
    "U = pd.read_csv(\"./Datos/semeion_unlabeled.csv\", header = None)\n",
    "test = pd.read_csv(\"./Datos/semeion_test.csv\", header = None)\n",
    "\n",
    "# test\n",
    "X_test = test.iloc[:,1:]\n",
    "y_test = test.iloc[:,0]\n",
    "\n",
    "# labeled\n",
    "L = pd.read_csv(\"./Datos/semeion_labeled.csv\", header = None)\n",
    "X_L = L.iloc[:,1:]\n",
    "y_L = L.iloc[:,0]\n",
    "\n",
    "# unlabeled\n",
    "X_U = U.iloc[:,1:]\n",
    "y_U = U.iloc[:,0]\n",
    "\n",
    "\n",
    "already_selected = []\n",
    "# El modelo sera SVC (un clasificador usando support vector machines)\n",
    "model = SVC(gamma = 'auto', probability=True)\n",
    "\n",
    "\n",
    "def MS(model, X_U, already_selected, N):\n",
    "    distances = []\n",
    "    for i in model.decision_function(X_U):\n",
    "        distances.append(np.linalg.norm(i))\n",
    "    distances = np.array(distances)\n",
    "    rank_ind = np.argsort(distances)\n",
    "    rank_ind = [i for i in rank_ind if i not in already_selected]\n",
    "    active_samples = rank_ind[0:N]\n",
    "    return active_samples\n",
    "\n",
    "def MCLU(model, X_U, already_selected, N):\n",
    "    distances = model.predict_proba(X_U)\n",
    "    sort_distances = np.sort(distances, 1)[:, -2:]\n",
    "    min_margin = sort_distances[:, 1] - sort_distances[:, 0]\n",
    "    rank_ind = np.argsort(min_margin)\n",
    "    rank_ind = [i for i in rank_ind if i not in already_selected]\n",
    "    active_samples = rank_ind[0:N]\n",
    "    return active_samples\n",
    "\n",
    "def SSC(model, X_U, already_selected, N):\n",
    "\n",
    "    pass\n",
    "\n",
    "def random_sampling(model, X_U, already_selected, N):    \n",
    "    not_selected = []\n",
    "    random_samples = []\n",
    "    for i in range(U.shape[0]):\n",
    "        if [i in already_selected] == [False]:\n",
    "            not_selected = not_selected + [i]\n",
    "    for i in range(N):\n",
    "        random_samples = random_samples + [randint(0, len(not_selected))]\n",
    "    return random_samples\n",
    "\n",
    "def diversity_clustering(X_U, active_samples, n):\n",
    "    kmeans = KMeans(n_clusters=n).fit(X_U.iloc[active_samples])\n",
    "    labels = kmeans.labels_\n",
    "    diversity_samples = []\n",
    "\n",
    "    for i in range(n):\n",
    "        for j in range(len(labels)):\n",
    "            if (labels[j] == i) :\n",
    "                diversity_samples = diversity_samples + [active_samples[j]]\n",
    "                break\n",
    "    \n",
    "    return diversity_samples\n",
    "\n",
    "\n",
    "#### https://github.com/google/active-learning/tree/master/sampling_methods"
   ]
  },
  {
   "cell_type": "code",
   "execution_count": 3,
   "metadata": {},
   "outputs": [],
   "source": [
    "### comenzamos con random sampling, que usaremos para comparar el resto de metodos\n",
    "M = 30 # numero iteraciones. Se acaba con M*10 muestras etiquetadas\n",
    "random_accuracy = []\n",
    "L = pd.read_csv(\"./Datos/semeion_labeled.csv\", header = None)\n",
    "X_L = L.iloc[:,1:]\n",
    "y_L = L.iloc[:,0]\n",
    "\n",
    "for i in range(M):\n",
    "    model.fit(X_L, y_L)\n",
    "\n",
    "    y_pred = model.predict(X_test)\n",
    "\n",
    "    random_accuracy = random_accuracy + [accuracy_score(y_pred, y_test)]\n",
    "    active_samples = random_sampling(model, X_U, already_selected, 10)\n",
    "    already_selected = already_selected + active_samples\n",
    "\n",
    "    L = L.append(U.iloc[active_samples,])\n",
    "    X_L = L.iloc[:,1:]\n",
    "    y_L = L.iloc[:,0]"
   ]
  },
  {
   "cell_type": "code",
   "execution_count": 14,
   "metadata": {},
   "outputs": [],
   "source": [
    "# Resto de metodos de AC + criterio_diversidad\n",
    "\n",
    "M = 30 # numero iteraciones. Se acaba con M*n_diver muestras etiquetadas\n",
    "n_al = 30 # numero de muestras activa que se seleccionan en cada iteracion\n",
    "n_diver = 10 # numero de muestras que se selecionan de las muestras activas a traves de un criterio de diversidad para cada iteracion\n",
    "sampling_methods = [MS, MCLU]\n",
    "diversity_methods = [diversity_clustering]\n",
    "acc = np.empty((len(sampling_methods)*len(diversity_methods),M))\n",
    "\n",
    "for j in range(len(sampling_methods)):\n",
    "    for k in range(len(diversity_methods)):\n",
    "        accuracy = []\n",
    "        already_selected = []\n",
    "        L = pd.read_csv(\"./Datos/semeion_labeled.csv\", header = None)\n",
    "        X_L = L.iloc[:,1:]\n",
    "        y_L = L.iloc[:,0]\n",
    "\n",
    "        for i in range(M):\n",
    "            model.fit(X_L, y_L)\n",
    "\n",
    "            y_pred = model.predict(X_test)\n",
    "\n",
    "            accuracy = accuracy + [accuracy_score(y_pred, y_test)]\n",
    "\n",
    "            active_samples = sampling_methods[j](model, X_U, already_selected, n_al)\n",
    "            active_samples = diversity_methods[k](X_U, active_samples, n_diver)\n",
    "\n",
    "\n",
    "            already_selected = already_selected + active_samples\n",
    "\n",
    "            L = L.append(U.iloc[active_samples,])\n",
    "            X_L = L.iloc[:,1:]\n",
    "            y_L = L.iloc[:,0]\n",
    "        \n",
    "    acc[j,:] = np.array(accuracy)\n",
    "    "
   ]
  },
  {
   "cell_type": "code",
   "execution_count": 15,
   "metadata": {},
   "outputs": [
    {
     "data": {
      "image/png": "[encoded data removed]",
      "text/plain": [
       "<Figure size 432x288 with 1 Axes>"
      ]
     },
     "metadata": {
      "needs_background": "light"
     },
     "output_type": "display_data"
    },
    {
     "data": {
      "image/png": "[encoded data removed]",
      "text/plain": [
       "<Figure size 432x288 with 1 Axes>"
      ]
     },
     "metadata": {
      "needs_background": "light"
     },
     "output_type": "display_data"
    }
   ],
   "source": [
    "# Graficas (naranja es random)\n",
    "al = [\"MS\"]*len(diversity_methods) + [\"MCLU\"]*len(diversity_methods)\n",
    "diversity = [\"Diversity Clustering\"]*len(sampling_methods)\n",
    "x = np.arange(M*n_diver, step = 10)\n",
    "\n",
    "for i in range(acc.shape[0]):\n",
    "    plt.figure(i)\n",
    "    plt.plot(x, acc[i,:], \"r\")\n",
    "    plt.plot(x, random_accuracy, \".--\", color = \"#AC8798\")\n",
    "    plt.title(al[i])\n",
    "    plt.legend((\"AL + Diversity\",\"Random\"))\n",
    "    plt.ylabel(\"Accuracy\")\n",
    "    plt.xlabel(\"Number of instances queries\")\n",
    "    plt.show"
   ]
  },
  {
   "cell_type": "code",
   "execution_count": 38,
   "metadata": {},
   "outputs": [
    {
     "data": {
      "text/plain": [
       "array([  0,  11,  15,  21,  31,  35,  39,  65,  96, 125, 167, 242, 270,\n",
       "         1,  13,  16,  24,  33,  34,  37,  53,  79,  83,  92, 101, 107,\n",
       "       110, 151, 157, 164, 172, 180, 204, 211, 212, 222, 226, 233, 235,\n",
       "       237, 241, 251, 254, 264, 265, 286, 290,   2,  20,  28,  47,  55,\n",
       "        69,  73,  75,  76,  78,  81,  90, 116, 119, 123, 134, 142, 146,\n",
       "       156, 162, 168, 169, 176, 184, 196, 216, 225, 231, 234, 245, 256,\n",
       "       260, 274,   3,  29,  41,  48,  52,  56,  57,  94,  97, 103, 115,\n",
       "       136, 145, 163, 170, 178, 185, 197, 232, 243, 244, 246, 248, 250,\n",
       "       258, 261, 277, 293,   4,  19,  32,  38,  49,  54,  58,  62,  77,\n",
       "       104, 109, 155, 165, 166, 171, 173, 186, 195, 200, 207, 209, 215,\n",
       "       218, 227, 230, 236, 267, 276, 285, 287, 289, 298,   5,  40,  46,\n",
       "        50,  51,  61,  71,  74,  85,  91, 112, 122, 127, 131, 133, 135,\n",
       "       148, 159, 160, 187, 188, 190, 194, 201, 202, 206, 208, 217, 224,\n",
       "       238, 240, 252, 253, 273, 283, 288, 295,   6,  12,  36,  44,  84,\n",
       "        87,  98, 102, 111, 113, 117, 118, 223, 263, 281,   7,  14,  18,\n",
       "        45,  66,  67,  70,  72,  86,  89,  95, 100, 105, 108, 124, 126,\n",
       "       129, 138, 141, 182, 189, 199, 203, 210, 228, 269, 272, 282, 291,\n",
       "       294, 297, 299,   8,  10,  17,  22,  25,  26,  42,  43,  68,  93,\n",
       "       106, 120, 128, 130, 137, 139, 152, 153, 158, 175, 179, 181, 191,\n",
       "       192, 198, 213, 214, 220, 221, 229, 271, 279,   9,  23,  27,  30,\n",
       "        59,  60,  63,  80,  82,  88,  99, 114, 121, 132, 140, 143, 144,\n",
       "       147, 149, 150, 154, 161, 174, 177, 183, 193, 205, 219, 239, 247,\n",
       "       249, 255, 257, 259, 262, 266, 268, 275, 278, 280, 284, 292, 296],\n",
       "      dtype=int32)"
      ]
     },
     "execution_count": 38,
     "metadata": {},
     "output_type": "execute_result"
    }
   ],
   "source": [
    "### SSC\n",
    "\n",
    "\n",
    "not_selected = [i for i in list(range(X_U.shape[0])) if i not in already_selected]\n",
    "not_support = [i for i in list(range(X_L.shape[0])) if i not in model.support_]\n",
    "np.array(X_U)[not_selected]\n",
    "np.array(X_L)[model.support_]\n",
    "not_support"
   ]
  }
 ],
 "metadata": {
  "colab": {
   "collapsed_sections": [],
   "name": "ActiveLearning.ipynb",
   "provenance": [],
   "toc_visible": true,
   "version": "0.3.2"
  },
  "kernelspec": {
   "display_name": "Python 3",
   "language": "python",
   "name": "python3"
  },
  "language_info": {
   "codemirror_mode": {
    "name": "ipython",
    "version": 3
   },
   "file_extension": ".py",
   "mimetype": "text/x-python",
   "name": "python",
   "nbconvert_exporter": "python",
   "pygments_lexer": "ipython3",
   "version": "3.7.2"
  }
 },
 "nbformat": 4,
 "nbformat_minor": 1
}
